{
  "nbformat": 4,
  "nbformat_minor": 0,
  "metadata": {
    "colab": {
      "provenance": [],
      "authorship_tag": "ABX9TyNdpgUEnB+cbJChpi4nrDm9",
      "include_colab_link": true
    },
    "kernelspec": {
      "name": "python3",
      "display_name": "Python 3"
    },
    "language_info": {
      "name": "python"
    }
  },
  "cells": [
    {
      "cell_type": "markdown",
      "metadata": {
        "id": "view-in-github",
        "colab_type": "text"
      },
      "source": [
        "<a href=\"https://colab.research.google.com/github/Fluza/Numpy/blob/main/matstat_homework1.ipynb\" target=\"_parent\"><img src=\"https://colab.research.google.com/assets/colab-badge.svg\" alt=\"Open In Colab\"/></a>"
      ]
    },
    {
      "cell_type": "code",
      "execution_count": null,
      "metadata": {
        "colab": {
          "base_uri": "https://localhost:8080/"
        },
        "id": "gtgLPMTCXueJ",
        "outputId": "3cf2be3f-419c-4d1e-896a-980efd87ee0a"
      },
      "outputs": [
        {
          "output_type": "execute_result",
          "data": {
            "text/plain": [
              "array([3, 2, 3, 6, 5, 1, 1, 3, 3, 6, 4, 5, 3, 6, 6, 5, 6, 1, 4, 5, 4, 1,\n",
              "       2, 5, 5, 2, 4, 6, 2, 3, 2, 2, 5, 5, 4, 5, 4, 4, 3, 3, 1, 3, 3, 4,\n",
              "       3, 3, 4, 6, 3, 1, 1, 3, 2, 3, 1, 1, 6, 6, 4, 2])"
            ]
          },
          "metadata": {},
          "execution_count": 1
        }
      ],
      "source": [
        "import numpy as np\n",
        "n = 60\n",
        "b = np.random.randint(1,7, size=n)\n",
        "b"
      ]
    },
    {
      "cell_type": "code",
      "source": [
        "m = len(b[b==3])\n",
        "m"
      ],
      "metadata": {
        "colab": {
          "base_uri": "https://localhost:8080/"
        },
        "id": "73snRtQlZcrM",
        "outputId": "95f9011a-6531-405c-d259-01fc79b9abe6"
      },
      "execution_count": null,
      "outputs": [
        {
          "output_type": "execute_result",
          "data": {
            "text/plain": [
              "15"
            ]
          },
          "metadata": {},
          "execution_count": 2
        }
      ]
    },
    {
      "cell_type": "code",
      "source": [
        "W = m/n\n",
        "W"
      ],
      "metadata": {
        "colab": {
          "base_uri": "https://localhost:8080/"
        },
        "id": "AYzQ681OZpG1",
        "outputId": "171d2eb3-ea32-4a44-a428-412dd148f761"
      },
      "execution_count": null,
      "outputs": [
        {
          "output_type": "execute_result",
          "data": {
            "text/plain": [
              "0.25"
            ]
          },
          "metadata": {},
          "execution_count": 3
        }
      ]
    },
    {
      "cell_type": "markdown",
      "source": [
        "это была тренировка)))) далее будет домашнее задание!!!!!!"
      ],
      "metadata": {
        "id": "miZ5OsThkpY2"
      }
    },
    {
      "cell_type": "markdown",
      "source": [
        "УРОК №1 ДЗ\n",
        "\n",
        "\n",
        "задание 1\n",
        "\n",
        "а)\n"
      ],
      "metadata": {
        "id": "VA0is4-hfsUT"
      }
    },
    {
      "cell_type": "code",
      "source": [
        "from math import factorial\n",
        "\n",
        "def combinations(n, k):\n",
        "    return int(factorial(n) / (factorial(k) * factorial(n - k)))\n",
        "\n",
        "combinations(52, 4)"
      ],
      "metadata": {
        "colab": {
          "base_uri": "https://localhost:8080/"
        },
        "id": "b3mpep3la1bS",
        "outputId": "c0718981-4ca1-4481-9f42-487fa61b2305"
      },
      "execution_count": null,
      "outputs": [
        {
          "output_type": "execute_result",
          "data": {
            "text/plain": [
              "270725"
            ]
          },
          "metadata": {},
          "execution_count": 5
        }
      ]
    },
    {
      "cell_type": "code",
      "source": [
        "combinations(13, 4)"
      ],
      "metadata": {
        "colab": {
          "base_uri": "https://localhost:8080/"
        },
        "id": "RmFcJ6Ffdca7",
        "outputId": "9362aebd-982d-4783-8387-4a6a39242109"
      },
      "execution_count": null,
      "outputs": [
        {
          "output_type": "execute_result",
          "data": {
            "text/plain": [
              "715"
            ]
          },
          "metadata": {},
          "execution_count": 6
        }
      ]
    },
    {
      "cell_type": "code",
      "source": [
        "715/270725"
      ],
      "metadata": {
        "colab": {
          "base_uri": "https://localhost:8080/"
        },
        "id": "HYE9LhshebLM",
        "outputId": "b4241b1c-47de-45ed-d4cd-85376eec1c96"
      },
      "execution_count": null,
      "outputs": [
        {
          "output_type": "execute_result",
          "data": {
            "text/plain": [
              "0.0026410564225690276"
            ]
          },
          "metadata": {},
          "execution_count": 8
        }
      ]
    },
    {
      "cell_type": "markdown",
      "source": [
        "ОТВЕТ: Вероятность вытащить 4 крестовые карты равна 0.002641 \n",
        "\n"
      ],
      "metadata": {
        "id": "EE9Ns-jhgjJR"
      }
    },
    {
      "cell_type": "markdown",
      "source": [
        "б)"
      ],
      "metadata": {
        "id": "J9NRwJJcgEVB"
      }
    },
    {
      "cell_type": "code",
      "source": [
        "combinations(48, 4)"
      ],
      "metadata": {
        "colab": {
          "base_uri": "https://localhost:8080/"
        },
        "id": "otxrbVQJe7-u",
        "outputId": "58862ef6-308f-400c-8c88-26ad80750432"
      },
      "execution_count": null,
      "outputs": [
        {
          "output_type": "execute_result",
          "data": {
            "text/plain": [
              "194580"
            ]
          },
          "metadata": {},
          "execution_count": 9
        }
      ]
    },
    {
      "cell_type": "code",
      "source": [
        "270725-194580"
      ],
      "metadata": {
        "colab": {
          "base_uri": "https://localhost:8080/"
        },
        "id": "wD-7Lm9ZfPY8",
        "outputId": "4d90e190-1c22-4a11-b30b-458927a2e0b8"
      },
      "execution_count": null,
      "outputs": [
        {
          "output_type": "execute_result",
          "data": {
            "text/plain": [
              "76145"
            ]
          },
          "metadata": {},
          "execution_count": 10
        }
      ]
    },
    {
      "cell_type": "code",
      "source": [
        "76145/270725"
      ],
      "metadata": {
        "colab": {
          "base_uri": "https://localhost:8080/"
        },
        "id": "lLNoN8h0fbvM",
        "outputId": "4af485c0-75aa-4006-d173-0fff76f8ae70"
      },
      "execution_count": null,
      "outputs": [
        {
          "output_type": "execute_result",
          "data": {
            "text/plain": [
              "0.2812632745405855"
            ]
          },
          "metadata": {},
          "execution_count": 11
        }
      ]
    },
    {
      "cell_type": "markdown",
      "source": [
        "ОТВЕТ: Вероятность вытащить 4 карты с минимум один туз равна 0.28\n",
        "\n"
      ],
      "metadata": {
        "id": "z4MCkv52g3li"
      }
    },
    {
      "cell_type": "markdown",
      "source": [
        "задание 2 \n",
        "\n"
      ],
      "metadata": {
        "id": "5JmABzvkhlEw"
      }
    },
    {
      "cell_type": "code",
      "source": [
        "combinations(10, 3)"
      ],
      "metadata": {
        "colab": {
          "base_uri": "https://localhost:8080/"
        },
        "id": "a5hZoxHLhvh1",
        "outputId": "d7ec592f-4561-42ed-e8ba-b2a804a10629"
      },
      "execution_count": null,
      "outputs": [
        {
          "output_type": "execute_result",
          "data": {
            "text/plain": [
              "120"
            ]
          },
          "metadata": {},
          "execution_count": 12
        }
      ]
    },
    {
      "cell_type": "code",
      "source": [
        "1/120"
      ],
      "metadata": {
        "colab": {
          "base_uri": "https://localhost:8080/"
        },
        "id": "xab3yT9Vh9-S",
        "outputId": "efd87c5f-4cd7-475d-9957-60928487688d"
      },
      "execution_count": null,
      "outputs": [
        {
          "output_type": "execute_result",
          "data": {
            "text/plain": [
              "0.008333333333333333"
            ]
          },
          "metadata": {},
          "execution_count": 13
        }
      ]
    },
    {
      "cell_type": "markdown",
      "source": [
        "Вероятнось, что человек откроет дверь с первой попытки равна 0.008\n",
        "\n"
      ],
      "metadata": {
        "id": "1SK036LJiCcL"
      }
    },
    {
      "cell_type": "markdown",
      "source": [
        "задание 3 \n",
        "\n"
      ],
      "metadata": {
        "id": "ZQQ7iFTli2Ze"
      }
    },
    {
      "cell_type": "code",
      "source": [
        "combinations(9, 3)"
      ],
      "metadata": {
        "colab": {
          "base_uri": "https://localhost:8080/"
        },
        "id": "VFyW2wUJi88g",
        "outputId": "9c9bd90c-900f-4c3e-bd40-9d8f7afb1f53"
      },
      "execution_count": null,
      "outputs": [
        {
          "output_type": "execute_result",
          "data": {
            "text/plain": [
              "84"
            ]
          },
          "metadata": {},
          "execution_count": 14
        }
      ]
    },
    {
      "cell_type": "code",
      "source": [
        "combinations(15, 3)"
      ],
      "metadata": {
        "colab": {
          "base_uri": "https://localhost:8080/"
        },
        "id": "8FevjppMjJ_I",
        "outputId": "df08a77f-a7a8-4f66-e1b0-425cc048160a"
      },
      "execution_count": null,
      "outputs": [
        {
          "output_type": "execute_result",
          "data": {
            "text/plain": [
              "455"
            ]
          },
          "metadata": {},
          "execution_count": 15
        }
      ]
    },
    {
      "cell_type": "code",
      "source": [
        "84/455"
      ],
      "metadata": {
        "colab": {
          "base_uri": "https://localhost:8080/"
        },
        "id": "4pAHqc4fjU8_",
        "outputId": "870e4a41-c1ea-43ec-cbbf-db116fe349c2"
      },
      "execution_count": null,
      "outputs": [
        {
          "output_type": "execute_result",
          "data": {
            "text/plain": [
              "0.18461538461538463"
            ]
          },
          "metadata": {},
          "execution_count": 16
        }
      ]
    },
    {
      "cell_type": "markdown",
      "source": [
        "Вероятность того, что все извлеченные детали окрашены равна 0.18\n",
        "\n"
      ],
      "metadata": {
        "id": "1tag7GLojdGC"
      }
    },
    {
      "cell_type": "markdown",
      "source": [
        "задание 4\n",
        "\n"
      ],
      "metadata": {
        "id": "jLQpkXSejzLX"
      }
    },
    {
      "cell_type": "code",
      "source": [
        "combinations(100, 2)"
      ],
      "metadata": {
        "colab": {
          "base_uri": "https://localhost:8080/"
        },
        "id": "Hlt2eYflj3gd",
        "outputId": "c42f1593-69ee-40f6-c319-6865b421e01f"
      },
      "execution_count": null,
      "outputs": [
        {
          "output_type": "execute_result",
          "data": {
            "text/plain": [
              "4950"
            ]
          },
          "metadata": {},
          "execution_count": 17
        }
      ]
    },
    {
      "cell_type": "code",
      "source": [
        "1/4950"
      ],
      "metadata": {
        "colab": {
          "base_uri": "https://localhost:8080/"
        },
        "id": "z0TvDZcDkLJE",
        "outputId": "97e42fd5-aca2-4961-cb75-c1d422c1a0f0"
      },
      "execution_count": null,
      "outputs": [
        {
          "output_type": "execute_result",
          "data": {
            "text/plain": [
              "0.00020202020202020202"
            ]
          },
          "metadata": {},
          "execution_count": 18
        }
      ]
    },
    {
      "cell_type": "markdown",
      "source": [
        "Вероятность того , что два билета окажутся выигрышными равна 0.0002\n",
        "\n"
      ],
      "metadata": {
        "id": "d2Am71PskSyg"
      }
    }
  ]
}