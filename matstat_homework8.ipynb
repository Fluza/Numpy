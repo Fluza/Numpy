{
  "nbformat": 4,
  "nbformat_minor": 0,
  "metadata": {
    "colab": {
      "provenance": [],
      "authorship_tag": "ABX9TyOyuRMwWLHzcJcnulM+v9Dy",
      "include_colab_link": true
    },
    "kernelspec": {
      "name": "python3",
      "display_name": "Python 3"
    },
    "language_info": {
      "name": "python"
    }
  },
  "cells": [
    {
      "cell_type": "markdown",
      "metadata": {
        "id": "view-in-github",
        "colab_type": "text"
      },
      "source": [
        "<a href=\"https://colab.research.google.com/github/Fluza/Numpy/blob/main/matstat_homework8.ipynb\" target=\"_parent\"><img src=\"https://colab.research.google.com/assets/colab-badge.svg\" alt=\"Open In Colab\"/></a>"
      ]
    },
    {
      "cell_type": "markdown",
      "source": [
        "УРОК №8. \n",
        "\n",
        "Дисперсионный анализ. Логистическая регрессия. \n",
        "\n"
      ],
      "metadata": {
        "id": "QwWi7WFKg4uj"
      }
    },
    {
      "cell_type": "code",
      "source": [
        "import pandas as pd \n",
        "import numpy as np "
      ],
      "metadata": {
        "id": "2U7z2aLkhJyM"
      },
      "execution_count": 1,
      "outputs": []
    },
    {
      "cell_type": "markdown",
      "source": [
        "Провести дисперсионный анализ для определения того, есть ли различия среднего роста взрослых футболистов, хоккеистов и штангистов.\n",
        "\n"
      ],
      "metadata": {
        "id": "zZuivd0Phkrm"
      }
    },
    {
      "cell_type": "code",
      "source": [
        "footballers = np.array([173, 175, 180, 178, 177, 185, 183,182])\n",
        "hockey_players = np.array([177, 179, 180, 188, 177, 172, 171, 184, 180])\n",
        "weightlifters = np.array([172, 173, 169, 177, 166, 180, 178, 177, 172, 166, 170])"
      ],
      "metadata": {
        "id": "ewkeSZHuiF1h"
      },
      "execution_count": 2,
      "outputs": []
    },
    {
      "cell_type": "markdown",
      "source": [
        "Средний рост  \n",
        "\n"
      ],
      "metadata": {
        "id": "nfD8oGs9jT1e"
      }
    },
    {
      "cell_type": "code",
      "source": [
        "f_mean = footballers.mean()\n",
        "f_mean"
      ],
      "metadata": {
        "colab": {
          "base_uri": "https://localhost:8080/"
        },
        "id": "ys-OMP4YjYw0",
        "outputId": "bc29b34a-9337-4b8b-93f4-dc14523846df"
      },
      "execution_count": 3,
      "outputs": [
        {
          "output_type": "execute_result",
          "data": {
            "text/plain": [
              "179.125"
            ]
          },
          "metadata": {},
          "execution_count": 3
        }
      ]
    },
    {
      "cell_type": "code",
      "source": [
        "h_mean = hockey_players.mean()\n",
        "h_mean"
      ],
      "metadata": {
        "colab": {
          "base_uri": "https://localhost:8080/"
        },
        "id": "X3JhQSI9jvWe",
        "outputId": "3710f3e2-3a8f-4f9e-c5f7-03e5b2903579"
      },
      "execution_count": 4,
      "outputs": [
        {
          "output_type": "execute_result",
          "data": {
            "text/plain": [
              "178.66666666666666"
            ]
          },
          "metadata": {},
          "execution_count": 4
        }
      ]
    },
    {
      "cell_type": "code",
      "source": [
        "w_mean = weightlifters.mean()\n",
        "w_mean"
      ],
      "metadata": {
        "colab": {
          "base_uri": "https://localhost:8080/"
        },
        "id": "O4t5fF02kFSY",
        "outputId": "5afb38ee-e64a-4d35-ae0c-ab877139fe93"
      },
      "execution_count": 5,
      "outputs": [
        {
          "output_type": "execute_result",
          "data": {
            "text/plain": [
              "172.72727272727272"
            ]
          },
          "metadata": {},
          "execution_count": 5
        }
      ]
    },
    {
      "cell_type": "code",
      "source": [
        "all_hight = np.hstack((footballers, hockey_players, weightlifters))\n",
        "all_mean = all_hight.mean()\n",
        "all_mean"
      ],
      "metadata": {
        "colab": {
          "base_uri": "https://localhost:8080/"
        },
        "id": "u6VxsHtjkWK_",
        "outputId": "a206f3ad-cfde-4bdb-ce82-2b20b8dddc50"
      },
      "execution_count": 6,
      "outputs": [
        {
          "output_type": "execute_result",
          "data": {
            "text/plain": [
              "176.46428571428572"
            ]
          },
          "metadata": {},
          "execution_count": 6
        }
      ]
    },
    {
      "cell_type": "code",
      "source": [
        "all_s2 = np.sum((all_hight - all_mean)  ** 2)\n",
        "all_s2 "
      ],
      "metadata": {
        "colab": {
          "base_uri": "https://localhost:8080/"
        },
        "id": "I_6tS_Dsk8Ar",
        "outputId": "a77a247a-f6d4-40c8-ea7a-0f0c5bad123b"
      },
      "execution_count": 7,
      "outputs": [
        {
          "output_type": "execute_result",
          "data": {
            "text/plain": [
              "830.9642857142854"
            ]
          },
          "metadata": {},
          "execution_count": 7
        }
      ]
    },
    {
      "cell_type": "code",
      "source": [
        "from os import wait\n",
        "s2f = (f_mean - all_mean) ** 2 * len(footballers) +  (h_mean - all_mean) ** 2 * len(hockey_players) + (w_mean - all_mean) ** 2 * len(weightlifters)\n",
        "s2f"
      ],
      "metadata": {
        "colab": {
          "base_uri": "https://localhost:8080/"
        },
        "id": "R4XIPtselUe1",
        "outputId": "32d89477-5b3e-439a-c4cf-a8ff93b4cf39"
      },
      "execution_count": 9,
      "outputs": [
        {
          "output_type": "execute_result",
          "data": {
            "text/plain": [
              "253.9074675324678"
            ]
          },
          "metadata": {},
          "execution_count": 9
        }
      ]
    },
    {
      "cell_type": "code",
      "source": [
        "s2_ost = np.sum((footballers - f_mean) ** 2) + np.sum((hockey_players - h_mean) ** 2) +np.sum((weightlifters - w_mean) ** 2)\n",
        "s2_ost"
      ],
      "metadata": {
        "colab": {
          "base_uri": "https://localhost:8080/"
        },
        "id": "R4BNmoFinJUH",
        "outputId": "f5756ba1-8e80-4d97-d515-112d93c626b4"
      },
      "execution_count": 10,
      "outputs": [
        {
          "output_type": "execute_result",
          "data": {
            "text/plain": [
              "577.0568181818182"
            ]
          },
          "metadata": {},
          "execution_count": 10
        }
      ]
    },
    {
      "cell_type": "code",
      "source": [
        "s2_ost + s2f"
      ],
      "metadata": {
        "colab": {
          "base_uri": "https://localhost:8080/"
        },
        "id": "KTs5jfydoAIZ",
        "outputId": "b045aa7e-2e9c-4368-ed62-a459dd9433f4"
      },
      "execution_count": 11,
      "outputs": [
        {
          "output_type": "execute_result",
          "data": {
            "text/plain": [
              "830.964285714286"
            ]
          },
          "metadata": {},
          "execution_count": 11
        }
      ]
    },
    {
      "cell_type": "markdown",
      "source": [
        "Общая дисперсия  \n",
        "\n"
      ],
      "metadata": {
        "id": "-sWUGQVMoHb1"
      }
    },
    {
      "cell_type": "code",
      "source": [
        "s2_general = all_s2 / (len(all_hight) - 1)\n",
        "s2_general"
      ],
      "metadata": {
        "colab": {
          "base_uri": "https://localhost:8080/"
        },
        "id": "T-RZQHFroOJQ",
        "outputId": "0af9a8a9-0c71-4d48-acbb-d38a2c56ce26"
      },
      "execution_count": 12,
      "outputs": [
        {
          "output_type": "execute_result",
          "data": {
            "text/plain": [
              "30.776455026455015"
            ]
          },
          "metadata": {},
          "execution_count": 12
        }
      ]
    },
    {
      "cell_type": "markdown",
      "source": [
        "Факторная дисперсия \n",
        "\n",
        "\n"
      ],
      "metadata": {
        "id": "tP6Hx5N0oo7T"
      }
    },
    {
      "cell_type": "code",
      "source": [
        "s2_factor = s2f / (3 - 1)\n",
        "s2_factor"
      ],
      "metadata": {
        "colab": {
          "base_uri": "https://localhost:8080/"
        },
        "id": "f6Jfz6P_ov8w",
        "outputId": "f5ca3b54-7189-4969-937a-47cffb4210d0"
      },
      "execution_count": 13,
      "outputs": [
        {
          "output_type": "execute_result",
          "data": {
            "text/plain": [
              "126.9537337662339"
            ]
          },
          "metadata": {},
          "execution_count": 13
        }
      ]
    },
    {
      "cell_type": "markdown",
      "source": [
        "Остаточная дисперсия \n",
        "\n"
      ],
      "metadata": {
        "id": "hWmOqcgXpBf3"
      }
    },
    {
      "cell_type": "code",
      "source": [
        "s2_residual = s2_ost / (len(all_hight) - 3)\n",
        "s2_residual"
      ],
      "metadata": {
        "colab": {
          "base_uri": "https://localhost:8080/"
        },
        "id": "XmLNmIvgpIWw",
        "outputId": "e8e76c1f-4121-4c66-c8a0-88869d71035e"
      },
      "execution_count": 14,
      "outputs": [
        {
          "output_type": "execute_result",
          "data": {
            "text/plain": [
              "23.08227272727273"
            ]
          },
          "metadata": {},
          "execution_count": 14
        }
      ]
    },
    {
      "cell_type": "code",
      "source": [
        "F_h = s2_factor / s2_residual\n",
        "F_h"
      ],
      "metadata": {
        "colab": {
          "base_uri": "https://localhost:8080/"
        },
        "id": "pv_0rElJpidW",
        "outputId": "960d2e74-3483-4203-9ca2-68d74c539fcf"
      },
      "execution_count": 15,
      "outputs": [
        {
          "output_type": "execute_result",
          "data": {
            "text/plain": [
              "5.500053450812598"
            ]
          },
          "metadata": {},
          "execution_count": 15
        }
      ]
    },
    {
      "cell_type": "code",
      "source": [
        "len(all_hight)"
      ],
      "metadata": {
        "colab": {
          "base_uri": "https://localhost:8080/"
        },
        "id": "bQif0CL5puPg",
        "outputId": "204d2479-7676-492b-8013-c4e8c047606a"
      },
      "execution_count": 16,
      "outputs": [
        {
          "output_type": "execute_result",
          "data": {
            "text/plain": [
              "28"
            ]
          },
          "metadata": {},
          "execution_count": 16
        }
      ]
    },
    {
      "cell_type": "code",
      "source": [
        "alpha = 0.05\n",
        "d_f1 = 3 - 1\n",
        "d_f2 = len(all_hight) - 3\n",
        "d_f1, d_f2"
      ],
      "metadata": {
        "colab": {
          "base_uri": "https://localhost:8080/"
        },
        "id": "K6BDZLoWp5oX",
        "outputId": "c4f82827-0716-408c-d03a-cb165fc12f76"
      },
      "execution_count": 17,
      "outputs": [
        {
          "output_type": "execute_result",
          "data": {
            "text/plain": [
              "(2, 25)"
            ]
          },
          "metadata": {},
          "execution_count": 17
        }
      ]
    },
    {
      "cell_type": "code",
      "source": [
        "F_kr = 3.4928"
      ],
      "metadata": {
        "id": "VRvIYQyeqXWe"
      },
      "execution_count": 18,
      "outputs": []
    },
    {
      "cell_type": "code",
      "source": [
        "F_kr > F_h"
      ],
      "metadata": {
        "colab": {
          "base_uri": "https://localhost:8080/"
        },
        "id": "UJvxy_gJqn6_",
        "outputId": "bc0543c3-4425-4553-ea66-1cc16365c3d1"
      },
      "execution_count": 20,
      "outputs": [
        {
          "output_type": "execute_result",
          "data": {
            "text/plain": [
              "False"
            ]
          },
          "metadata": {},
          "execution_count": 20
        }
      ]
    },
    {
      "cell_type": "markdown",
      "source": [
        "Следовательно , различие между выборками существенно ."
      ],
      "metadata": {
        "id": "_JAi1S4Gq0en"
      }
    }
  ]
}