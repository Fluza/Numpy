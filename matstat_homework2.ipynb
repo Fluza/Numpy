{
  "nbformat": 4,
  "nbformat_minor": 0,
  "metadata": {
    "colab": {
      "provenance": [],
      "authorship_tag": "ABX9TyO/q14iO06RncMDOtUuaX9D",
      "include_colab_link": true
    },
    "kernelspec": {
      "name": "python3",
      "display_name": "Python 3"
    },
    "language_info": {
      "name": "python"
    }
  },
  "cells": [
    {
      "cell_type": "markdown",
      "metadata": {
        "id": "view-in-github",
        "colab_type": "text"
      },
      "source": [
        "<a href=\"https://colab.research.google.com/github/Fluza/Numpy/blob/main/matstat_homework2.ipynb\" target=\"_parent\"><img src=\"https://colab.research.google.com/assets/colab-badge.svg\" alt=\"Open In Colab\"/></a>"
      ]
    },
    {
      "cell_type": "markdown",
      "source": [
        "ЗАДАНИЕ 1. Вероятность что стрелок попадет в цель 85 раз.\n"
      ],
      "metadata": {
        "id": "U2YgDl4ChgVS"
      }
    },
    {
      "cell_type": "code",
      "execution_count": null,
      "metadata": {
        "id": "PESgXVNMbxNE"
      },
      "outputs": [],
      "source": [
        "import numpy as np\n",
        "from math import factorial as f\n",
        "\n",
        "def choose(n,k):\n",
        "  return f(n) / (f(k) * f (n-k ))\n",
        "\n",
        "def bern(p, n, k):\n",
        "  return choose(n,k) * p**(k) * (1 - p)**(n - k)\n",
        "\n",
        "def puas(l,m):\n",
        "    return l**m/f(m)*np.exp(-l)"
      ]
    },
    {
      "cell_type": "code",
      "source": [
        "bern(0.8, 100, 85)"
      ],
      "metadata": {
        "colab": {
          "base_uri": "https://localhost:8080/"
        },
        "id": "My4b8iAfhIZh",
        "outputId": "565d476f-da05-4d97-af91-6be91cfea63e"
      },
      "execution_count": null,
      "outputs": [
        {
          "output_type": "execute_result",
          "data": {
            "text/plain": [
              "0.048061793700746355"
            ]
          },
          "metadata": {},
          "execution_count": 2
        }
      ]
    },
    {
      "cell_type": "markdown",
      "source": [
        "ЗАДАНИЕ 2. Вероятность что ни одна из них не перегорит в первый день?\n"
      ],
      "metadata": {
        "id": "0ApH7TqPh2il"
      }
    },
    {
      "cell_type": "code",
      "source": [
        "lmbd = 5000 *0.0004"
      ],
      "metadata": {
        "id": "MdEGvGypiQHC"
      },
      "execution_count": null,
      "outputs": []
    },
    {
      "cell_type": "code",
      "source": [
        "puas(lmbd, 0)"
      ],
      "metadata": {
        "colab": {
          "base_uri": "https://localhost:8080/"
        },
        "id": "auCED8s7i6T4",
        "outputId": "db76b2db-7dd6-4357-b325-d12315ff8ea0"
      },
      "execution_count": null,
      "outputs": [
        {
          "output_type": "execute_result",
          "data": {
            "text/plain": [
              "0.1353352832366127"
            ]
          },
          "metadata": {},
          "execution_count": 4
        }
      ]
    },
    {
      "cell_type": "markdown",
      "source": [
        "Вероятность, что перегорят ровно две?\n"
      ],
      "metadata": {
        "id": "vsPFokqHjGtu"
      }
    },
    {
      "cell_type": "code",
      "source": [
        "puas (lmbd, 2)"
      ],
      "metadata": {
        "colab": {
          "base_uri": "https://localhost:8080/"
        },
        "id": "jWkHY9k7jTNg",
        "outputId": "a957b48e-cb5b-4dc7-bed2-d24dc93b911c"
      },
      "execution_count": null,
      "outputs": [
        {
          "output_type": "execute_result",
          "data": {
            "text/plain": [
              "0.2706705664732254"
            ]
          },
          "metadata": {},
          "execution_count": 5
        }
      ]
    },
    {
      "cell_type": "markdown",
      "source": [
        "ЗАДАНИЕ 3. Вероятность , что орел выпадет ровно 70 раз?\n",
        "\n"
      ],
      "metadata": {
        "id": "luHjAslDj1TF"
      }
    },
    {
      "cell_type": "code",
      "source": [
        "bern(0.5, 144, 70)"
      ],
      "metadata": {
        "colab": {
          "base_uri": "https://localhost:8080/"
        },
        "id": "LDcfLIazkEiQ",
        "outputId": "09a43d7d-bcb4-402b-d557-876cc584209f"
      },
      "execution_count": null,
      "outputs": [
        {
          "output_type": "execute_result",
          "data": {
            "text/plain": [
              "0.06281178035144776"
            ]
          },
          "metadata": {},
          "execution_count": 6
        }
      ]
    },
    {
      "cell_type": "markdown",
      "source": [
        "ЗАДАНИЕ 4. Вероятность того, что все мячи белые?\n"
      ],
      "metadata": {
        "id": "IKGjbtfrkZBd"
      }
    },
    {
      "cell_type": "code",
      "source": [
        "(7*6*9*8)/(10*9*11*10)"
      ],
      "metadata": {
        "colab": {
          "base_uri": "https://localhost:8080/"
        },
        "id": "Yq1xuiALk78A",
        "outputId": "dda3958a-60f5-4ca9-febc-f98efcb463f6"
      },
      "execution_count": null,
      "outputs": [
        {
          "output_type": "execute_result",
          "data": {
            "text/plain": [
              "0.3054545454545455"
            ]
          },
          "metadata": {},
          "execution_count": 7
        }
      ]
    },
    {
      "cell_type": "markdown",
      "source": [
        "Вероятность того, что ровно два мяча белые?\n",
        "\n",
        "\n"
      ],
      "metadata": {
        "id": "Y8OWhF9nlmxV"
      }
    },
    {
      "cell_type": "code",
      "source": [
        "(7/10)*(6/9)*(2/11)*(1/10) + (7/10)*(3/9)*(9/11)*(2/10) + (7/10)*(3/9)*(2/11)*(9/10) +\\\n",
        "(3/10)*(7/9)*(9/11)*(2/10) + (3/10)*(7/9)*(2/11)*(9/10) + (3/10)*(2/9)*(9/11)*(8/10)"
      ],
      "metadata": {
        "colab": {
          "base_uri": "https://localhost:8080/"
        },
        "id": "ejCK-Sowl9bE",
        "outputId": "fef2d886-9f86-45f2-8433-96baaaa88273"
      },
      "execution_count": null,
      "outputs": [
        {
          "output_type": "execute_result",
          "data": {
            "text/plain": [
              "0.20484848484848484"
            ]
          },
          "metadata": {},
          "execution_count": 8
        }
      ]
    },
    {
      "cell_type": "markdown",
      "source": [
        "Вероятность того, что хотя бы один мяч белый?\n"
      ],
      "metadata": {
        "id": "TLu8kUzjniF2"
      }
    },
    {
      "cell_type": "code",
      "source": [
        "1-(3/10*2/9*2/11*1/10)"
      ],
      "metadata": {
        "colab": {
          "base_uri": "https://localhost:8080/"
        },
        "id": "TTsrGA3Znwzx",
        "outputId": "37da3d5e-14a6-48bb-dc36-a78df4dc4220"
      },
      "execution_count": null,
      "outputs": [
        {
          "output_type": "execute_result",
          "data": {
            "text/plain": [
              "0.9987878787878788"
            ]
          },
          "metadata": {},
          "execution_count": 9
        }
      ]
    }
  ]
}