{
  "nbformat": 4,
  "nbformat_minor": 0,
  "metadata": {
    "colab": {
      "provenance": [],
      "authorship_tag": "ABX9TyM2eo4NYS6nEUahiS28ooak",
      "include_colab_link": true
    },
    "kernelspec": {
      "name": "python3",
      "display_name": "Python 3"
    },
    "language_info": {
      "name": "python"
    }
  },
  "cells": [
    {
      "cell_type": "markdown",
      "metadata": {
        "id": "view-in-github",
        "colab_type": "text"
      },
      "source": [
        "<a href=\"https://colab.research.google.com/github/Fluza/Numpy/blob/main/matstat_homework6.ipynb\" target=\"_parent\"><img src=\"https://colab.research.google.com/assets/colab-badge.svg\" alt=\"Open In Colab\"/></a>"
      ]
    },
    {
      "cell_type": "markdown",
      "source": [
        "УРОК №6 ВЗАИМОСВЯЗЬ ВЕЛИЧИН. ПАРАМЕТРИЧЕСКИЕ И НЕПАРАМЕТРИЧЕСКИЕ ПОКАЗАТЕЛИ КОРРЕЛЯЦИИ. КОРРЕЛЯЦИОННЫЙ АНАЛИЗ.\n",
        "\n"
      ],
      "metadata": {
        "id": "1fohMND-bfLS"
      }
    },
    {
      "cell_type": "code",
      "source": [
        "import pandas as pd\n",
        "import numpy as np\n",
        "from statsmodels.stats.weightstats import _tconfint_generic as t_stats"
      ],
      "metadata": {
        "id": "ZqOnqGojcHhC"
      },
      "execution_count": null,
      "outputs": []
    },
    {
      "cell_type": "markdown",
      "source": [
        "Задание 1.\n",
        "\n",
        " Даны значения величины заработной платы заемщиков банка (zp) и значения их поведенческого кредитного скоринга (ks) \n"
      ],
      "metadata": {
        "id": "nf9iCzsKdBmn"
      }
    },
    {
      "cell_type": "code",
      "source": [
        "zp = np.array([35, 45, 190, 200, 40, 70, 54, 150, 120, 110])\n",
        "ks = np.array([401, 574, 874, 919, 459, 739, 653, 902, 746, 832])"
      ],
      "metadata": {
        "id": "WtEdTHt5d0So"
      },
      "execution_count": null,
      "outputs": []
    },
    {
      "cell_type": "markdown",
      "source": [
        "Найдем ковариацию этих двух величин с помощью элементарных действий, а затем с помощью функции COV из numpy . Полученные значения должны быть равны.  Найдите коэффициент корреляции Пирсона \n"
      ],
      "metadata": {
        "id": "Y4OeSQL5nFNH"
      }
    },
    {
      "cell_type": "code",
      "source": [
        "M_X = zp.mean()\n",
        "M_Y = ks.mean()\n",
        "M_XY = (zp * ks).mean()\n"
      ],
      "metadata": {
        "id": "NeRRpBOpesvc"
      },
      "execution_count": null,
      "outputs": []
    },
    {
      "cell_type": "code",
      "source": [
        "cov_ks = M_XY - M_X * M_Y\n",
        "cov_ks"
      ],
      "metadata": {
        "colab": {
          "base_uri": "https://localhost:8080/"
        },
        "id": "73vKUreBfQQ0",
        "outputId": "9ae56d2a-fe95-479d-b91b-889755c83cd3"
      },
      "execution_count": null,
      "outputs": [
        {
          "output_type": "execute_result",
          "data": {
            "text/plain": [
              "9157.839999999997"
            ]
          },
          "metadata": {},
          "execution_count": 4
        }
      ]
    },
    {
      "cell_type": "code",
      "source": [
        "np.cov(zp, ks, ddof=0)"
      ],
      "metadata": {
        "colab": {
          "base_uri": "https://localhost:8080/"
        },
        "id": "kl4Hrp_3fiQK",
        "outputId": "f4ac0be0-a849-4c79-9ce1-a42d7112b3c5"
      },
      "execution_count": null,
      "outputs": [
        {
          "output_type": "execute_result",
          "data": {
            "text/plain": [
              "array([[ 3494.64,  9157.84],\n",
              "       [ 9157.84, 30468.89]])"
            ]
          },
          "metadata": {},
          "execution_count": 5
        }
      ]
    },
    {
      "cell_type": "code",
      "source": [
        "cov_ks2 = ((zp - zp.mean()) * (ks - ks.mean())).mean()\n",
        "cov_ks2"
      ],
      "metadata": {
        "colab": {
          "base_uri": "https://localhost:8080/"
        },
        "id": "7yL2S9Fif1eU",
        "outputId": "153441b7-c021-4182-f103-076990234fe7"
      },
      "execution_count": null,
      "outputs": [
        {
          "output_type": "execute_result",
          "data": {
            "text/plain": [
              "9157.84"
            ]
          },
          "metadata": {},
          "execution_count": 6
        }
      ]
    },
    {
      "cell_type": "code",
      "source": [
        "std_X = zp.std()\n",
        "std_Y = ks.std()"
      ],
      "metadata": {
        "id": "9EU1njDGgcwn"
      },
      "execution_count": null,
      "outputs": []
    },
    {
      "cell_type": "code",
      "source": [
        "corr_ks = cov_ks / (std_X * std_Y)\n",
        "corr_ks"
      ],
      "metadata": {
        "colab": {
          "base_uri": "https://localhost:8080/"
        },
        "id": "rQpDCM-YgwsI",
        "outputId": "c8091ffd-34cc-4fd5-f413-798692974133"
      },
      "execution_count": null,
      "outputs": [
        {
          "output_type": "execute_result",
          "data": {
            "text/plain": [
              "0.8874900920739158"
            ]
          },
          "metadata": {},
          "execution_count": 8
        }
      ]
    },
    {
      "cell_type": "code",
      "source": [
        "np.corrcoef(zp, ks)"
      ],
      "metadata": {
        "colab": {
          "base_uri": "https://localhost:8080/"
        },
        "id": "V5ib6Ad0hHjs",
        "outputId": "917c13b0-9657-4b15-f868-131b17194506"
      },
      "execution_count": null,
      "outputs": [
        {
          "output_type": "execute_result",
          "data": {
            "text/plain": [
              "array([[1.        , 0.88749009],\n",
              "       [0.88749009, 1.        ]])"
            ]
          },
          "metadata": {},
          "execution_count": 9
        }
      ]
    },
    {
      "cell_type": "markdown",
      "source": [
        "Задание 2.\n",
        "\n",
        "Измерены значения IQ выборки студентов, обучающихся  в местных технических вузах:\n",
        "\n"
      ],
      "metadata": {
        "id": "PAJED6iFhVDh"
      }
    },
    {
      "cell_type": "code",
      "source": [
        "X = np.array([131.0, 125.0, 115.0, 122.0, 131.0, 115.0, 107.0, 99.0, 125.0, 111.0])\n",
        "mean_X = X.mean()\n",
        "std_X = X.std(ddof=1)\n",
        "mean_std_X = std_X / (np.sqrt(len(X)))"
      ],
      "metadata": {
        "id": "xHI8fkUFh8ny"
      },
      "execution_count": null,
      "outputs": []
    },
    {
      "cell_type": "markdown",
      "source": [
        "Найдем доверительный интервал для математического ожидания с надежностью 0.95\n",
        "\n"
      ],
      "metadata": {
        "id": "6n0a8D3GmXVe"
      }
    },
    {
      "cell_type": "code",
      "source": [
        "t_stats(mean_X, mean_std_X,len(X) - 1, 0.05, 'two-sided')\n"
      ],
      "metadata": {
        "colab": {
          "base_uri": "https://localhost:8080/"
        },
        "id": "oxIFxCy7jAZx",
        "outputId": "e16efe0d-62c7-4f69-8457-5a46925b12ac"
      },
      "execution_count": null,
      "outputs": [
        {
          "output_type": "execute_result",
          "data": {
            "text/plain": [
              "(110.55608365158724, 125.64391634841274)"
            ]
          },
          "metadata": {},
          "execution_count": 12
        }
      ]
    },
    {
      "cell_type": "markdown",
      "source": [
        "Задание 3. \n",
        "\n",
        "Известно, что рост футболистов в сборной распределен нормально.\n",
        "\n"
      ],
      "metadata": {
        "id": "q-yUzaklkXdu"
      }
    },
    {
      "cell_type": "code",
      "source": [
        "mean_X = 174.2\n",
        "std_X = np.sqrt(25)\n",
        "mean_std_X = std_X / np.sqrt(27)"
      ],
      "metadata": {
        "id": "vQXV3RGJlHAs"
      },
      "execution_count": null,
      "outputs": []
    },
    {
      "cell_type": "markdown",
      "source": [
        "Найдем доверительный интервал с надежностью 0.95\n",
        "\n"
      ],
      "metadata": {
        "id": "E4HORBAEmJle"
      }
    },
    {
      "cell_type": "code",
      "source": [
        "t_stats(mean_X, mean_std_X,27 - 1, 0.05, 'two-sided')"
      ],
      "metadata": {
        "colab": {
          "base_uri": "https://localhost:8080/"
        },
        "id": "N4L5CyWkln5z",
        "outputId": "015c6be2-1dc0-4883-8c23-2ff3f269c6c5"
      },
      "execution_count": null,
      "outputs": [
        {
          "output_type": "execute_result",
          "data": {
            "text/plain": [
              "(172.2220658754539, 176.17793412454608)"
            ]
          },
          "metadata": {},
          "execution_count": 14
        }
      ]
    }
  ]
}