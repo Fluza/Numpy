{
  "nbformat": 4,
  "nbformat_minor": 0,
  "metadata": {
    "colab": {
      "provenance": [],
      "authorship_tag": "ABX9TyO2XIf8B+1I5niAmArv+9Fl",
      "include_colab_link": true
    },
    "kernelspec": {
      "name": "python3",
      "display_name": "Python 3"
    },
    "language_info": {
      "name": "python"
    }
  },
  "cells": [
    {
      "cell_type": "markdown",
      "metadata": {
        "id": "view-in-github",
        "colab_type": "text"
      },
      "source": [
        "<a href=\"https://colab.research.google.com/github/Fluza/Numpy/blob/main/matstat_homework3.ipynb\" target=\"_parent\"><img src=\"https://colab.research.google.com/assets/colab-badge.svg\" alt=\"Open In Colab\"/></a>"
      ]
    },
    {
      "cell_type": "code",
      "source": [
        "import numpy as np\n",
        "from math import factorial as fl\n",
        "\n",
        "\n",
        "def combinations(k, n):\n",
        "    return fl(n) / (fl(k) * fl(n - k))"
      ],
      "metadata": {
        "id": "DS609KbDU7A2"
      },
      "execution_count": 1,
      "outputs": []
    },
    {
      "cell_type": "markdown",
      "source": [
        "ЗАДАНИЕ 1\n",
        "\n"
      ],
      "metadata": {
        "id": "mCGp5zJ-VtQH"
      }
    },
    {
      "cell_type": "code",
      "source": [
        "salaries = np.array([100, 80, 75, 77, 89, 33, 45, 25, 65, 17, 30, 24, 57, 55, 70, 75, 65, 84, 90, 150])"
      ],
      "metadata": {
        "id": "QzBqgZvxV9H9"
      },
      "execution_count": 2,
      "outputs": []
    },
    {
      "cell_type": "markdown",
      "source": [
        "среднее арифметическое  \n"
      ],
      "metadata": {
        "id": "fTN6oQ_wWrBE"
      }
    },
    {
      "cell_type": "code",
      "source": [
        "salaries_mean = salaries.sum() / salaries.size "
      ],
      "metadata": {
        "id": "OAGT3rIUW1a3"
      },
      "execution_count": 3,
      "outputs": []
    },
    {
      "cell_type": "markdown",
      "source": [
        "среднее квадратичное отклонение \n"
      ],
      "metadata": {
        "id": "Kmm_fPeXXQWj"
      }
    },
    {
      "cell_type": "code",
      "source": [
        "(np.sum((salaries - salaries_mean)**2) / salaries.size)**0.5"
      ],
      "metadata": {
        "colab": {
          "base_uri": "https://localhost:8080/"
        },
        "id": "MsQ6JNs6XYM3",
        "outputId": "ecadb729-9083-4fcf-a824-bc8c0e763e99"
      },
      "execution_count": 4,
      "outputs": [
        {
          "output_type": "execute_result",
          "data": {
            "text/plain": [
              "30.823854398825596"
            ]
          },
          "metadata": {},
          "execution_count": 4
        }
      ]
    },
    {
      "cell_type": "markdown",
      "source": [
        "смещенную дисперсию\n"
      ],
      "metadata": {
        "id": "ua1IC0foX2r-"
      }
    },
    {
      "cell_type": "code",
      "source": [
        "np.sum((salaries - salaries_mean)**2) / salaries.size "
      ],
      "metadata": {
        "colab": {
          "base_uri": "https://localhost:8080/"
        },
        "id": "fF_xBsegYHVS",
        "outputId": "b3479513-19fc-4a36-e324-e41a34fc0dd4"
      },
      "execution_count": 5,
      "outputs": [
        {
          "output_type": "execute_result",
          "data": {
            "text/plain": [
              "950.11"
            ]
          },
          "metadata": {},
          "execution_count": 5
        }
      ]
    },
    {
      "cell_type": "markdown",
      "source": [
        "несмещенную дисперсию\n",
        "\n"
      ],
      "metadata": {
        "id": "DRF2CuWwYnnJ"
      }
    },
    {
      "cell_type": "code",
      "source": [
        "np.sum((salaries - salaries_mean)**2) / (salaries.size - 1)"
      ],
      "metadata": {
        "colab": {
          "base_uri": "https://localhost:8080/"
        },
        "id": "lPK5aMvOYvc0",
        "outputId": "34559949-6610-42a8-907e-b632dba2ba11"
      },
      "execution_count": 6,
      "outputs": [
        {
          "output_type": "execute_result",
          "data": {
            "text/plain": [
              "1000.1157894736842"
            ]
          },
          "metadata": {},
          "execution_count": 6
        }
      ]
    },
    {
      "cell_type": "markdown",
      "source": [
        "ЗАДАНИЕ 2\n"
      ],
      "metadata": {
        "id": "g4wHVwaBZhPy"
      }
    },
    {
      "cell_type": "code",
      "source": [
        "import numpy as np\n",
        "from math import factorial\n",
        "def combinations(n,k):\n",
        "    return int(factorial(n) / (factorial(k) * factorial(n - k)))"
      ],
      "metadata": {
        "id": "VJsGGgyJjm8l"
      },
      "execution_count": 8,
      "outputs": []
    },
    {
      "cell_type": "code",
      "source": [
        "# 1 случай\n",
        "p1=(combinations(5,0)*combinations(3,2))/combinations(8,2)*((combinations(5,3)*combinations(7,1))/combinations(12,4))\n",
        "p1"
      ],
      "metadata": {
        "id": "weKXgV4RZnkW",
        "colab": {
          "base_uri": "https://localhost:8080/"
        },
        "outputId": "adf6015d-942b-4f9c-cdb9-5dd6b49d22cf"
      },
      "execution_count": 9,
      "outputs": [
        {
          "output_type": "execute_result",
          "data": {
            "text/plain": [
              "0.01515151515151515"
            ]
          },
          "metadata": {},
          "execution_count": 9
        }
      ]
    },
    {
      "cell_type": "code",
      "source": [
        "# 2 случай\n",
        "p2 =(combinations(5,1)*combinations(3,1))/combinations(8,2)*(combinations(5,2)*combinations(7,2)/combinations(12,4))\n",
        "p2"
      ],
      "metadata": {
        "colab": {
          "base_uri": "https://localhost:8080/"
        },
        "id": "AaDQn7ztkW_f",
        "outputId": "add29b77-c7ce-42ce-e5c5-226098f952f7"
      },
      "execution_count": 10,
      "outputs": [
        {
          "output_type": "execute_result",
          "data": {
            "text/plain": [
              "0.22727272727272727"
            ]
          },
          "metadata": {},
          "execution_count": 10
        }
      ]
    },
    {
      "cell_type": "code",
      "source": [
        "# 3 случай\n",
        "p3 =((combinations(5,2)*combinations(3,0))/combinations(8,2)) * ((combinations(5,1)*combinations(7,3))/combinations(12,4))\n",
        "p3"
      ],
      "metadata": {
        "colab": {
          "base_uri": "https://localhost:8080/"
        },
        "id": "BXDRYKs2lOsO",
        "outputId": "e2d57b10-5ef6-4406-82a2-508f0eecb6c8"
      },
      "execution_count": 11,
      "outputs": [
        {
          "output_type": "execute_result",
          "data": {
            "text/plain": [
              "0.12626262626262627"
            ]
          },
          "metadata": {},
          "execution_count": 11
        }
      ]
    },
    {
      "cell_type": "code",
      "source": [
        "p=p1+p2+p3\n",
        "p"
      ],
      "metadata": {
        "colab": {
          "base_uri": "https://localhost:8080/"
        },
        "id": "Jo-HA6L3l96X",
        "outputId": "7c193469-66f7-4fcf-c4a0-90edc400e6de"
      },
      "execution_count": 12,
      "outputs": [
        {
          "output_type": "execute_result",
          "data": {
            "text/plain": [
              "0.3686868686868687"
            ]
          },
          "metadata": {},
          "execution_count": 12
        }
      ]
    },
    {
      "cell_type": "markdown",
      "source": [
        "ЗАДАНИЕ 3\n"
      ],
      "metadata": {
        "id": "gdAzvgmyZoMK"
      }
    },
    {
      "cell_type": "code",
      "source": [
        "A = 1/3 * 0.9 + 1/3 * 0.8 + 1/3 * 0.6\n",
        "A"
      ],
      "metadata": {
        "colab": {
          "base_uri": "https://localhost:8080/"
        },
        "id": "xpJi54AOZsvX",
        "outputId": "ef06a9ae-6d69-4ec8-ada5-73f65ddca916"
      },
      "execution_count": null,
      "outputs": [
        {
          "output_type": "execute_result",
          "data": {
            "text/plain": [
              "0.7666666666666666"
            ]
          },
          "metadata": {},
          "execution_count": 7
        }
      ]
    },
    {
      "cell_type": "markdown",
      "source": [
        "а) первым спортсменом\n"
      ],
      "metadata": {
        "id": "uwcvDnbYaGh5"
      }
    },
    {
      "cell_type": "code",
      "source": [
        "(1/3 * 0.9) / A"
      ],
      "metadata": {
        "colab": {
          "base_uri": "https://localhost:8080/"
        },
        "id": "IBiXlLFjaOz2",
        "outputId": "719335eb-35fa-4311-9a3f-bd108470d228"
      },
      "execution_count": null,
      "outputs": [
        {
          "output_type": "execute_result",
          "data": {
            "text/plain": [
              "0.391304347826087"
            ]
          },
          "metadata": {},
          "execution_count": 8
        }
      ]
    },
    {
      "cell_type": "markdown",
      "source": [
        "б)вторым спортсменом\n"
      ],
      "metadata": {
        "id": "8FMzQ_s7aiAd"
      }
    },
    {
      "cell_type": "code",
      "source": [
        "(1/3 * 0.8) / A"
      ],
      "metadata": {
        "colab": {
          "base_uri": "https://localhost:8080/"
        },
        "id": "sImeVUbearFD",
        "outputId": "e9d3d40e-1f34-4459-f8a8-48df2d0f030a"
      },
      "execution_count": null,
      "outputs": [
        {
          "output_type": "execute_result",
          "data": {
            "text/plain": [
              "0.3478260869565218"
            ]
          },
          "metadata": {},
          "execution_count": 9
        }
      ]
    },
    {
      "cell_type": "markdown",
      "source": [
        "в)третим спортсменом\n"
      ],
      "metadata": {
        "id": "Y0zmB4tGa0um"
      }
    },
    {
      "cell_type": "code",
      "source": [
        "(1/3 * 0.6) / A"
      ],
      "metadata": {
        "colab": {
          "base_uri": "https://localhost:8080/"
        },
        "id": "HWu6Dsena_EE",
        "outputId": "5ca10c75-f90e-48c6-f8ca-ea810d4f98d0"
      },
      "execution_count": null,
      "outputs": [
        {
          "output_type": "execute_result",
          "data": {
            "text/plain": [
              "0.2608695652173913"
            ]
          },
          "metadata": {},
          "execution_count": 10
        }
      ]
    },
    {
      "cell_type": "markdown",
      "source": [
        "ЗАДАНИЕ 4 \n"
      ],
      "metadata": {
        "id": "mqK1ZYMjbYjl"
      }
    },
    {
      "cell_type": "code",
      "source": [
        "A = 1/4 * 0.8 + 1/4 * 0.7 +1/2 * 0.9\n",
        "A "
      ],
      "metadata": {
        "colab": {
          "base_uri": "https://localhost:8080/"
        },
        "id": "awfG0jiBbrNC",
        "outputId": "1c721c4c-aac7-4963-ff75-578ffa974274"
      },
      "execution_count": null,
      "outputs": [
        {
          "output_type": "execute_result",
          "data": {
            "text/plain": [
              "0.825"
            ]
          },
          "metadata": {},
          "execution_count": 11
        }
      ]
    },
    {
      "cell_type": "markdown",
      "source": [
        "а) на факультете А\n"
      ],
      "metadata": {
        "id": "SGIcQmdNcWvw"
      }
    },
    {
      "cell_type": "code",
      "source": [
        "(1/4 * 0.8) / A"
      ],
      "metadata": {
        "colab": {
          "base_uri": "https://localhost:8080/"
        },
        "id": "Mpr616mRcff9",
        "outputId": "4741965b-8370-4752-86dc-15847b1e24bf"
      },
      "execution_count": null,
      "outputs": [
        {
          "output_type": "execute_result",
          "data": {
            "text/plain": [
              "0.24242424242424246"
            ]
          },
          "metadata": {},
          "execution_count": 12
        }
      ]
    },
    {
      "cell_type": "markdown",
      "source": [
        "б) на факультете B\n"
      ],
      "metadata": {
        "id": "At3NUtThcseq"
      }
    },
    {
      "cell_type": "code",
      "source": [
        "(1/4 * 0.7) / A"
      ],
      "metadata": {
        "colab": {
          "base_uri": "https://localhost:8080/"
        },
        "id": "2v-ITSFTc5oi",
        "outputId": "0f757a5a-b2fc-4cb1-f307-3b198c62928f"
      },
      "execution_count": null,
      "outputs": [
        {
          "output_type": "execute_result",
          "data": {
            "text/plain": [
              "0.21212121212121213"
            ]
          },
          "metadata": {},
          "execution_count": 13
        }
      ]
    },
    {
      "cell_type": "markdown",
      "source": [
        "в) на факультете C \n"
      ],
      "metadata": {
        "id": "twqydcbWdE8A"
      }
    },
    {
      "cell_type": "code",
      "source": [
        "(1/2 * 0.9) / A"
      ],
      "metadata": {
        "colab": {
          "base_uri": "https://localhost:8080/"
        },
        "id": "MP7OIIz5dMxW",
        "outputId": "fd04543d-2336-447a-bbd7-19671c6743f1"
      },
      "execution_count": null,
      "outputs": [
        {
          "output_type": "execute_result",
          "data": {
            "text/plain": [
              "0.5454545454545455"
            ]
          },
          "metadata": {},
          "execution_count": 14
        }
      ]
    },
    {
      "cell_type": "markdown",
      "source": [
        "ЗАДАНИЕ 4\n"
      ],
      "metadata": {
        "id": "QjRTKCRSmK7-"
      }
    },
    {
      "cell_type": "code",
      "source": [
        "# все детали выйдут из строя\n",
        "0.1*0.2*0.25"
      ],
      "metadata": {
        "colab": {
          "base_uri": "https://localhost:8080/"
        },
        "id": "Ut3mmfcjmfKo",
        "outputId": "3a2727e2-03f3-42ab-e517-fa082d96f2f5"
      },
      "execution_count": 14,
      "outputs": [
        {
          "output_type": "execute_result",
          "data": {
            "text/plain": [
              "0.005000000000000001"
            ]
          },
          "metadata": {},
          "execution_count": 14
        }
      ]
    },
    {
      "cell_type": "code",
      "source": [
        "# 2 детали вышли из строя\n",
        "0.9*0.2*0.25+0.8*0.1*0.25+0.75*0.1*0.2"
      ],
      "metadata": {
        "colab": {
          "base_uri": "https://localhost:8080/"
        },
        "id": "PyXbgi6zmy2P",
        "outputId": "9d793891-3af4-4043-bc70-cac187711536"
      },
      "execution_count": 15,
      "outputs": [
        {
          "output_type": "execute_result",
          "data": {
            "text/plain": [
              "0.08"
            ]
          },
          "metadata": {},
          "execution_count": 15
        }
      ]
    },
    {
      "cell_type": "code",
      "source": [
        "# хотя бы одна деталь\n",
        "1-0.9*0.8*0.75"
      ],
      "metadata": {
        "colab": {
          "base_uri": "https://localhost:8080/"
        },
        "id": "55gVHOgbnf2d",
        "outputId": "c3831bed-0ea3-4383-81c1-d28e62daf2b8"
      },
      "execution_count": 16,
      "outputs": [
        {
          "output_type": "execute_result",
          "data": {
            "text/plain": [
              "0.45999999999999996"
            ]
          },
          "metadata": {},
          "execution_count": 16
        }
      ]
    },
    {
      "cell_type": "code",
      "source": [
        "# от одной до двух деталей выйдут из строя?\n",
        "1-0.9*0.8*0.75-0.1*0.2*0.25"
      ],
      "metadata": {
        "colab": {
          "base_uri": "https://localhost:8080/"
        },
        "id": "HCpfXuGcn1W_",
        "outputId": "aba8d87f-56ab-4afe-b8f7-71f8e8b32390"
      },
      "execution_count": 17,
      "outputs": [
        {
          "output_type": "execute_result",
          "data": {
            "text/plain": [
              "0.45499999999999996"
            ]
          },
          "metadata": {},
          "execution_count": 17
        }
      ]
    }
  ]
}