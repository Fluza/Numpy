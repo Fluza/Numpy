{
  "nbformat": 4,
  "nbformat_minor": 0,
  "metadata": {
    "colab": {
      "provenance": [],
      "authorship_tag": "ABX9TyPrXGaNI3RWckvWhHclT1Dn",
      "include_colab_link": true
    },
    "kernelspec": {
      "name": "python3",
      "display_name": "Python 3"
    },
    "language_info": {
      "name": "python"
    }
  },
  "cells": [
    {
      "cell_type": "markdown",
      "metadata": {
        "id": "view-in-github",
        "colab_type": "text"
      },
      "source": [
        "<a href=\"https://colab.research.google.com/github/Fluza/Numpy/blob/main/matstat_homework5.ipynb\" target=\"_parent\"><img src=\"https://colab.research.google.com/assets/colab-badge.svg\" alt=\"Open In Colab\"/></a>"
      ]
    },
    {
      "cell_type": "markdown",
      "source": [
        "УРОК 5. ПРОВЕРКА СТАТИСТИЧЕСКИХ ГИПОТЕЗ. Р-значения. Доверительные интервалы. А/В-тестирование.\n"
      ],
      "metadata": {
        "id": "OL3c4u6VlnC4"
      }
    },
    {
      "cell_type": "code",
      "source": [
        "import numpy as np\n",
        "from scipy import stats\n"
      ],
      "metadata": {
        "id": "Vh_F0rJImqGG"
      },
      "execution_count": null,
      "outputs": []
    },
    {
      "cell_type": "markdown",
      "source": [
        "ЗАДАНИЕ 1.\n",
        "Найдем доверительный интервал:\n"
      ],
      "metadata": {
        "id": "wRQrANjynYeq"
      }
    },
    {
      "cell_type": "code",
      "source": [
        "std_ = 16\n",
        "mean_ = 80\n",
        "n = 256\n",
        "print ('Доверительный интервал равен:', (mean_ - 2*std_/np.sqrt(n), mean_ + 2*std_/np.sqrt(n))) "
      ],
      "metadata": {
        "colab": {
          "base_uri": "https://localhost:8080/"
        },
        "id": "IVXex5UBner4",
        "outputId": "8be3e309-cb27-471f-bb16-667333fe6507"
      },
      "execution_count": null,
      "outputs": [
        {
          "output_type": "stream",
          "name": "stdout",
          "text": [
            "Доверительный интервал равен: (78.0, 82.0)\n"
          ]
        }
      ]
    },
    {
      "cell_type": "markdown",
      "source": [
        "ЗАДАНИЕ 2.\n"
      ],
      "metadata": {
        "id": "KBgNjuGUpPjk"
      }
    },
    {
      "cell_type": "code",
      "source": [
        "x=np.array([6.9,6.1,6.2,6.8,7.5,6.3,6.4,6.9,6.7,6.1])\n",
        "x"
      ],
      "metadata": {
        "colab": {
          "base_uri": "https://localhost:8080/"
        },
        "id": "WvdFWXzOprP3",
        "outputId": "77d3a83c-ead5-474f-ef8f-0d9edf1d7b93"
      },
      "execution_count": null,
      "outputs": [
        {
          "output_type": "execute_result",
          "data": {
            "text/plain": [
              "array([6.9, 6.1, 6.2, 6.8, 7.5, 6.3, 6.4, 6.9, 6.7, 6.1])"
            ]
          },
          "metadata": {},
          "execution_count": 3
        }
      ]
    },
    {
      "cell_type": "code",
      "source": [
        "variance=x.var(ddof=1) # несмещенная дисперсия\n",
        "variance"
      ],
      "metadata": {
        "colab": {
          "base_uri": "https://localhost:8080/"
        },
        "id": "jKQzT00Jq1il",
        "outputId": "be4f164e-3a19-46b6-cba4-2b0f1714d093"
      },
      "execution_count": null,
      "outputs": [
        {
          "output_type": "execute_result",
          "data": {
            "text/plain": [
              "0.2032222222222223"
            ]
          },
          "metadata": {},
          "execution_count": 4
        }
      ]
    },
    {
      "cell_type": "code",
      "source": [
        "s=(variance)**0.5\n",
        "s"
      ],
      "metadata": {
        "colab": {
          "base_uri": "https://localhost:8080/"
        },
        "id": "bYZrtFUPrvTS",
        "outputId": "2ea1b9ff-852d-4ff1-d141-bf9b5d9b7d67"
      },
      "execution_count": null,
      "outputs": [
        {
          "output_type": "execute_result",
          "data": {
            "text/plain": [
              "0.4508017549014448"
            ]
          },
          "metadata": {},
          "execution_count": 5
        }
      ]
    },
    {
      "cell_type": "code",
      "source": [
        "mu=x.mean()\n",
        "mu"
      ],
      "metadata": {
        "colab": {
          "base_uri": "https://localhost:8080/"
        },
        "id": "eCEN-tDdr8Pm",
        "outputId": "c943435e-4b80-47d4-f911-6c2e13db40f6"
      },
      "execution_count": null,
      "outputs": [
        {
          "output_type": "execute_result",
          "data": {
            "text/plain": [
              "6.590000000000001"
            ]
          },
          "metadata": {},
          "execution_count": 6
        }
      ]
    },
    {
      "cell_type": "code",
      "source": [
        "mu+(2.262*s)/np.sqrt(10)"
      ],
      "metadata": {
        "colab": {
          "base_uri": "https://localhost:8080/"
        },
        "id": "mXCuNAzgsfIZ",
        "outputId": "6ccc0345-54d1-4ad8-a485-d4db7600ec07"
      },
      "execution_count": null,
      "outputs": [
        {
          "output_type": "execute_result",
          "data": {
            "text/plain": [
              "6.912461744087575"
            ]
          },
          "metadata": {},
          "execution_count": 7
        }
      ]
    },
    {
      "cell_type": "code",
      "source": [
        "mu-(2.262*s)/np.sqrt(10)"
      ],
      "metadata": {
        "colab": {
          "base_uri": "https://localhost:8080/"
        },
        "id": "B9kSzLsNswLk",
        "outputId": "c558f67e-4ccf-41ec-b234-36f4a9e54fc9"
      },
      "execution_count": null,
      "outputs": [
        {
          "output_type": "execute_result",
          "data": {
            "text/plain": [
              "6.267538255912426"
            ]
          },
          "metadata": {},
          "execution_count": 8
        }
      ]
    },
    {
      "cell_type": "markdown",
      "source": [
        "ЗАДАНИЕ 3.\n"
      ],
      "metadata": {
        "id": "M_W2i2ERtCUB"
      }
    },
    {
      "cell_type": "code",
      "source": [
        "a = 17\n",
        "m = 17.5\n",
        "n = 100\n",
        "D = 4\n",
        "sigma = np.sqrt(D/n)\n",
        "sigma"
      ],
      "metadata": {
        "colab": {
          "base_uri": "https://localhost:8080/"
        },
        "id": "LFVVnW_GtJ1R",
        "outputId": "312d9812-5b82-4d3f-89c2-edce08160aea"
      },
      "execution_count": null,
      "outputs": [
        {
          "output_type": "execute_result",
          "data": {
            "text/plain": [
              "0.2"
            ]
          },
          "metadata": {},
          "execution_count": 9
        }
      ]
    },
    {
      "cell_type": "code",
      "source": [
        "alpha = 0.05"
      ],
      "metadata": {
        "id": "TrZMgLIautp2"
      },
      "execution_count": null,
      "outputs": []
    },
    {
      "cell_type": "markdown",
      "source": [
        "Выбранный уровень значимости альфа = 0.025 означает, что для проверки гипотезы о среднем значении а = 17 требуется , чтобы с вероятностью 95% выборочное среднее попадало в правосторонний интервал, который (по правилу 2х сигм) равен(а - 2*сигму, а + 2*сигму).\n"
      ],
      "metadata": {
        "id": "M1g1pVsEv1wt"
      }
    },
    {
      "cell_type": "code",
      "source": [
        "(a -2 * sigma, a + 2 * sigma)"
      ],
      "metadata": {
        "colab": {
          "base_uri": "https://localhost:8080/"
        },
        "id": "7-CajDyRu3aa",
        "outputId": "0062b303-1fbe-4d89-eae5-a306553f3248"
      },
      "execution_count": null,
      "outputs": [
        {
          "output_type": "execute_result",
          "data": {
            "text/plain": [
              "(16.6, 17.4)"
            ]
          },
          "metadata": {},
          "execution_count": 11
        }
      ]
    },
    {
      "cell_type": "markdown",
      "source": [
        "Данные противоречат гипотизе Н0, и принимается гипотиза Н1"
      ],
      "metadata": {
        "id": "VXQKYFVyyOru"
      }
    },
    {
      "cell_type": "code",
      "source": [
        "stats.norm.ppf(1 - 0.025, 17, 0.2)"
      ],
      "metadata": {
        "colab": {
          "base_uri": "https://localhost:8080/"
        },
        "id": "7Cn5VhUtyG0W",
        "outputId": "86957383-7fd5-4da4-a071-e7901779a733"
      },
      "execution_count": null,
      "outputs": [
        {
          "output_type": "execute_result",
          "data": {
            "text/plain": [
              "17.39199279690801"
            ]
          },
          "metadata": {},
          "execution_count": 12
        }
      ]
    },
    {
      "cell_type": "markdown",
      "source": [
        "ЗАДАНИЕ 4.\n",
        "\n",
        "Найдем доверительный интервал, чтобы проверить гипотезу, что среднее значение веса пачки 200г.\n",
        "\n"
      ],
      "metadata": {
        "id": "WpISjvR4zWB8"
      }
    },
    {
      "cell_type": "code",
      "source": [
        "sample = np.array([202, 203, 199, 197, 195, 201, 200, 204, 194, 190])\n",
        "m = sample.mean()\n",
        "n = 10\n",
        "sigma = np.sqrt(((sample - m)**2).sum()/(n-1))\n",
        "print ('sigma =', sigma)"
      ],
      "metadata": {
        "colab": {
          "base_uri": "https://localhost:8080/"
        },
        "id": "OCv5AyNUz8B_",
        "outputId": "45cd2bf8-d4df-4bcd-aa57-6979f925d207"
      },
      "execution_count": null,
      "outputs": [
        {
          "output_type": "stream",
          "name": "stdout",
          "text": [
            "sigma = 4.453463071962462\n"
          ]
        }
      ]
    },
    {
      "cell_type": "markdown",
      "source": [
        "табличное значение коэффициента Стьюдента\n"
      ],
      "metadata": {
        "id": "fSRLaNyX1C0K"
      }
    },
    {
      "cell_type": "code",
      "source": [
        "t_int = 2.8214\n"
      ],
      "metadata": {
        "id": "aKwarc7C1P_P"
      },
      "execution_count": null,
      "outputs": []
    },
    {
      "cell_type": "code",
      "source": [
        "t = stats.t(n-1)\n",
        "t.cdf(2.8214)"
      ],
      "metadata": {
        "colab": {
          "base_uri": "https://localhost:8080/"
        },
        "id": "jThOosu21eQN",
        "outputId": "d6a27630-9c09-4d8a-f399-ce805ed25c41"
      },
      "execution_count": null,
      "outputs": [
        {
          "output_type": "execute_result",
          "data": {
            "text/plain": [
              "0.9899993808040004"
            ]
          },
          "metadata": {},
          "execution_count": 14
        }
      ]
    },
    {
      "cell_type": "code",
      "source": [
        "print ('Доверительный интервал равен:', (m - t_int*sigma/np.sqrt(n), m + t_int*sigma/np.sqrt(n)))"
      ],
      "metadata": {
        "colab": {
          "base_uri": "https://localhost:8080/"
        },
        "id": "jzYk6Okb14Ii",
        "outputId": "bac781ec-1201-4785-aafd-303421f13498"
      },
      "execution_count": null,
      "outputs": [
        {
          "output_type": "stream",
          "name": "stdout",
          "text": [
            "Доверительный интервал равен: (194.5265978950862, 202.4734021049138)\n"
          ]
        }
      ]
    },
    {
      "cell_type": "markdown",
      "source": [
        "Доверительный интервал, построенный с учетом доверительной вероятности 99%=(194.5,202.4), включает значение предполагемого среднего значения а = 200=> утверждение продавца,что средний вес пачки равен 200гр верно.\n",
        "\n"
      ],
      "metadata": {
        "id": "vmRldHlN2zkr"
      }
    },
    {
      "cell_type": "markdown",
      "source": [],
      "metadata": {
        "id": "c6eKKWjF31B6"
      }
    }
  ]
}